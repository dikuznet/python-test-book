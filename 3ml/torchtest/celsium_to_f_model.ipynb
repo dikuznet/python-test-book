{
 "cells": [
  {
   "cell_type": "code",
   "execution_count": 1,
   "id": "1a7197e4-382b-4be4-a5ba-6fab1aa9d93a",
   "metadata": {},
   "outputs": [],
   "source": [
    "import torch\n",
    "import numpy as np"
   ]
  },
  {
   "cell_type": "code",
   "execution_count": 2,
   "id": "348d46aa-ad93-4d35-a1e9-f9b9cf825185",
   "metadata": {},
   "outputs": [],
   "source": [
    "celsius_q    = torch.tensor([-40, -10, 0, 7.778, 15, 22.222, 37.778],dtype=torch.float32)\n",
    "fahrenheit_a = torch.tensor([-40, 14, 32, 46, 59, 72, 100],dtype=torch.float32)\n"
   ]
  },
  {
   "cell_type": "code",
   "execution_count": 3,
   "id": "a0bb0c0e-ecb7-4ecb-85e3-f55f19adc0b3",
   "metadata": {},
   "outputs": [],
   "source": [
    "class Net(torch.nn.Module):\n",
    "    def __init__(self):\n",
    "        super(Net, self).__init__()\n",
    "        self.fc1 = torch.nn.Linear(7,7)\n",
    "        \n",
    "    def forward(self, x):\n",
    "        x = self.fc1(x)\n",
    "        return x"
   ]
  },
  {
   "cell_type": "code",
   "execution_count": 4,
   "id": "896c8fac-889e-44ba-966c-b60153372adb",
   "metadata": {},
   "outputs": [],
   "source": [
    "model = Net()"
   ]
  },
  {
   "cell_type": "code",
   "execution_count": 5,
   "id": "0d29974e-d30d-4bf7-a747-c978fc117572",
   "metadata": {},
   "outputs": [],
   "source": [
    "model(celsius_q)\n",
    "criterion = torch.nn.MSELoss()\n",
    "optimizer = torch.optim.SGD(model.parameters(), lr = 0.0003)"
   ]
  },
  {
   "cell_type": "code",
   "execution_count": 6,
   "id": "032c9660-2397-402a-a1cc-72cf718ed0d3",
   "metadata": {},
   "outputs": [],
   "source": [
    "for epoch in range(20):\n",
    "    out = model(celsius_q)\n",
    "    loss = criterion(out, fahrenheit_a)\n",
    "    # print('Ep', epoch, 'Loss:', loss.item())\n",
    "    optimizer.zero_grad()\n",
    "    loss.backward()\n",
    "    optimizer.step()"
   ]
  },
  {
   "cell_type": "code",
   "execution_count": 7,
   "id": "2f23e383-ea10-4c02-9233-e5c7c650adfa",
   "metadata": {},
   "outputs": [],
   "source": [
    "\n",
    "torch.save(model.state_dict(), \"model.pth\")\n",
    "\n"
   ]
  },
  {
   "cell_type": "code",
   "execution_count": 8,
   "id": "cbff49f3-644a-4a82-934e-9b1a2f6dbf1a",
   "metadata": {},
   "outputs": [],
   "source": [
    "model = Net()\n",
    "model.load_state_dict(torch.load(\"model.pth\"))\n",
    "model.eval()\n",
    "x = float(-40)\n",
    "pred = model(celsius_q)"
   ]
  },
  {
   "cell_type": "code",
   "execution_count": 9,
   "id": "934df76f-b900-4f5a-83f7-4e562432b77c",
   "metadata": {},
   "outputs": [
    {
     "data": {
      "text/plain": [
       "tensor([-39.9966,  13.9943,  31.9842,  45.9833,  58.9783,  71.9811,  99.9753],\n",
       "       grad_fn=<AddBackward0>)"
      ]
     },
     "execution_count": 9,
     "metadata": {},
     "output_type": "execute_result"
    }
   ],
   "source": [
    "pred"
   ]
  },
  {
   "cell_type": "code",
   "execution_count": null,
   "id": "2bc31236-63d5-4f1a-8bce-fa9d698b198b",
   "metadata": {},
   "outputs": [],
   "source": []
  }
 ],
 "metadata": {
  "kernelspec": {
   "display_name": "Python 3 (ipykernel)",
   "language": "python",
   "name": "python3"
  },
  "language_info": {
   "codemirror_mode": {
    "name": "ipython",
    "version": 3
   },
   "file_extension": ".py",
   "mimetype": "text/x-python",
   "name": "python",
   "nbconvert_exporter": "python",
   "pygments_lexer": "ipython3",
   "version": "3.8.10"
  }
 },
 "nbformat": 4,
 "nbformat_minor": 5
}
