{
 "cells": [
  {
   "cell_type": "code",
   "execution_count": 1,
   "id": "6ebc50e7-6cc1-42a0-96b1-cd8bb3fde34f",
   "metadata": {},
   "outputs": [],
   "source": [
    "import torch\n",
    "import numpy as np\n",
    "\n",
    "class Net(torch.nn.Module):\n",
    "    def __init__(self):\n",
    "        super(Net, self).__init__()\n",
    "        self.fc1 = torch.nn.Linear(7,7)\n",
    "        \n",
    "    def forward(self, x):\n",
    "        x = self.fc1(x)\n",
    "        return x"
   ]
  },
  {
   "cell_type": "code",
   "execution_count": 2,
   "id": "a8ca8091-1ae4-42ef-b56e-7c3096c7c296",
   "metadata": {},
   "outputs": [],
   "source": [
    "celsius_q    = torch.tensor([-40, -10, 0, 7.778, 15, 22.222, -40],dtype=torch.float32)\n",
    "\n",
    "model = Net()\n",
    "test_loader = model.load_state_dict(torch.load(\"model.pth\"))\n",
    "model.eval()\n",
    "running_accuracy = 0 \n",
    "total = 0 \n",
    " \n",
    "# with torch.no_grad(): \n",
    "#     for data in test_loader: \n",
    "#         pass\n",
    "#         inputs, outputs = data, data \n",
    "#         outputs = outputs.to(torch.float32) \n",
    "        # predicted_outputs = model(inputs) \n",
    "        # _, predicted = torch.max(predicted_outputs, 1) \n",
    "        # total += outputs.size(0) \n",
    "        # running_accuracy += (predicted == outputs).sum().item() \n",
    "\n",
    "    # print('Accuracy of the model based on the test set of', test_split ,'inputs is: %d %%' % (100 * running_accuracy / total))    \n",
    " "
   ]
  },
  {
   "cell_type": "code",
   "execution_count": null,
   "id": "fff0af79-d2e7-4b2d-b322-ab46b3958dae",
   "metadata": {},
   "outputs": [],
   "source": []
  },
  {
   "cell_type": "code",
   "execution_count": null,
   "id": "be4cd27b-e8c8-40cd-807c-e402fbf140a9",
   "metadata": {},
   "outputs": [],
   "source": []
  }
 ],
 "metadata": {
  "kernelspec": {
   "display_name": "Python 3 (ipykernel)",
   "language": "python",
   "name": "python3"
  },
  "language_info": {
   "codemirror_mode": {
    "name": "ipython",
    "version": 3
   },
   "file_extension": ".py",
   "mimetype": "text/x-python",
   "name": "python",
   "nbconvert_exporter": "python",
   "pygments_lexer": "ipython3",
   "version": "3.8.10"
  }
 },
 "nbformat": 4,
 "nbformat_minor": 5
}
